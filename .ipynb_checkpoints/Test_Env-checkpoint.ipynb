{
 "cells": [
  {
   "cell_type": "markdown",
   "metadata": {
    "cell_id": "41166a5879694b318dc37928b56a6519",
    "deepnote_cell_type": "text-cell-p",
    "formattedRanges": [],
    "is_collapsed": false,
    "tags": []
   },
   "source": [
    "# CAS Data Engineering FHNW\n",
    "## Data Wrangling Module - Author F.Burnelli"
   ]
  },
  {
   "cell_type": "markdown",
   "metadata": {
    "cell_id": "33aaa325d4584ed78d4dcf7cbab922f5",
    "deepnote_cell_type": "markdown",
    "tags": []
   },
   "source": [
    "### Exercise 1 \n",
    "### Note:use the Kernek: \"Python (wrangling)\""
   ]
  },
  {
   "cell_type": "markdown",
   "metadata": {},
   "source": [
    "## Just testing the ENV"
   ]
  },
  {
   "cell_type": "code",
   "execution_count": 4,
   "metadata": {
    "cell_id": "6e0772dfe0ca4f89b691b936d4a8fdda",
    "deepnote_cell_type": "code",
    "deepnote_to_be_reexecuted": false,
    "execution_millis": 214,
    "execution_start": 1678201589218,
    "scrolled": false,
    "source_hash": "4ddaa282",
    "tags": []
   },
   "outputs": [],
   "source": [
    "import pandas as pd\n",
    "import os\n",
    "import sys   \n",
    "import json"
   ]
  },
  {
   "cell_type": "code",
   "execution_count": 5,
   "metadata": {
    "cell_id": "0445d6085a89409f807ec203e356cc7c",
    "deepnote_cell_type": "code",
    "deepnote_to_be_reexecuted": false,
    "execution_millis": 4991,
    "execution_start": 1678201572825,
    "scrolled": true,
    "source_hash": "ffc8110c",
    "tags": []
   },
   "outputs": [
    {
     "name": "stdout",
     "output_type": "stream",
     "text": [
      "2.2.2\n"
     ]
    }
   ],
   "source": [
    "print(pd. __version__)"
   ]
  },
  {
   "cell_type": "code",
   "execution_count": null,
   "metadata": {},
   "outputs": [],
   "source": []
  }
 ],
 "metadata": {
  "deepnote": {},
  "deepnote_execution_queue": [],
  "deepnote_notebook_id": "6fa25ac5da5241fb9c796c3631629c1b",
  "deepnote_persisted_session": {
   "createdAt": "2023-03-07T15:33:16.428Z"
  },
  "kernelspec": {
   "display_name": "Python (wrangling)",
   "language": "python",
   "name": "wrangling"
  },
  "language_info": {
   "codemirror_mode": {
    "name": "ipython",
    "version": 3
   },
   "file_extension": ".py",
   "mimetype": "text/x-python",
   "name": "python",
   "nbconvert_exporter": "python",
   "pygments_lexer": "ipython3",
   "version": "3.9.7"
  }
 },
 "nbformat": 4,
 "nbformat_minor": 1
}
